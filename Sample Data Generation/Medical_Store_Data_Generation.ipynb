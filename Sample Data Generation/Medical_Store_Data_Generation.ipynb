{
  "nbformat": 4,
  "nbformat_minor": 0,
  "metadata": {
    "colab": {
      "name": "Medical Store Data Generation",
      "provenance": []
    },
    "kernelspec": {
      "name": "python3",
      "display_name": "Python 3.8.3 64-bit ('venv': venv)"
    },
    "language_info": {
      "name": "python",
      "version": "3.8.3"
    },
    "interpreter": {
      "hash": "ba1396f099f83a5a9da3203e16edd1c61ec51704d87e4f58b0a9c33bdf892298"
    }
  },
  "cells": [
    {
      "cell_type": "code",
      "metadata": {
        "id": "0ImRPifFYoUX"
      },
      "source": [
        "# Company : Cipla\n",
        "# Medicine : 8X Cream\n",
        "\n",
        "d = {\n",
        "    'Date':[],\n",
        "    'Stocks Sold':[]\n",
        "}\n",
        "import datetime\n",
        "import random\n",
        "import pandas as pd\n",
        "for i in range(10000):\n",
        "  start_date = datetime.date(2015,1, 1)\n",
        "  end_date = datetime.date(2021,1,1)\n",
        "\n",
        "  time_between_dates = end_date - start_date\n",
        "  days_between_dates = time_between_dates.days\n",
        "  random_number_of_days = random.randrange(days_between_dates)\n",
        "  random_date = start_date + datetime.timedelta(days=random_number_of_days)\n",
        "\n",
        "  d['Date'].append(random_date)\n",
        "  stocks_seed = random. randint(1,200)\n",
        "  stock = random.randint(1,stocks_seed)\n",
        "  d['Stocks Sold'].append(stock)\n",
        "\n",
        "df = pd.DataFrame(d)\n",
        "df.to_csv('Cipla_8X Cream.csv',index = False)"
      ],
      "execution_count": 14,
      "outputs": []
    },
    {
      "cell_type": "code",
      "metadata": {
        "id": "pEOaimkYY_zA"
      },
      "source": [
        "# Company : Cipla\n",
        "# Medicine : ADGAIN Capsules\n",
        "\n",
        "d = {\n",
        "    'Date':[],\n",
        "    'Stocks Sold':[]\n",
        "}\n",
        "import datetime\n",
        "import random\n",
        "import pandas as pd\n",
        "for i in range(10000):\n",
        "  start_date = datetime.date(2015,1, 1)\n",
        "  end_date = datetime.date(2021,1,1)\n",
        "\n",
        "  time_between_dates = end_date - start_date\n",
        "  days_between_dates = time_between_dates.days\n",
        "  random_number_of_days = random.randrange(days_between_dates)\n",
        "  random_date = start_date + datetime.timedelta(days=random_number_of_days)\n",
        "\n",
        "  d['Date'].append(random_date)\n",
        "  stocks_seed = random. randint(1,20)\n",
        "  stock = random.randint(1,stocks_seed)\n",
        "  d['Stocks Sold'].append(stock)\n",
        "\n",
        "df = pd.DataFrame(d)\n",
        "df.to_csv('Cipla_ADGAIN Capsules.csv',index = False)"
      ],
      "execution_count": 15,
      "outputs": []
    },
    {
      "cell_type": "code",
      "metadata": {
        "id": "dGr7DVh0ZDcx"
      },
      "source": [
        "# Company : Biocon\n",
        "# Medicine : BILAFAV Oral Solution\n",
        "\n",
        "d = {\n",
        "    'Date':[],\n",
        "    'Stocks Sold':[]\n",
        "}\n",
        "import datetime\n",
        "import random\n",
        "import pandas as pd\n",
        "for i in range(10000):\n",
        "  start_date = datetime.date(2015,1, 1)\n",
        "  end_date = datetime.date(2021,1,1)\n",
        "\n",
        "  time_between_dates = end_date - start_date\n",
        "  days_between_dates = time_between_dates.days\n",
        "  random_number_of_days = random.randrange(days_between_dates)\n",
        "  random_date = start_date + datetime.timedelta(days=random_number_of_days)\n",
        "\n",
        "  d['Date'].append(random_date)\n",
        "  stocks_seed = random. randint(1,20)\n",
        "  stock = random.randint(1,stocks_seed)\n",
        "  d['Stocks Sold'].append(stock)\n",
        "\n",
        "df = pd.DataFrame(d)\n",
        "df.to_csv('Biocon_BILAFAV Oral Solution.csv',index = False)"
      ],
      "execution_count": 16,
      "outputs": []
    },
    {
      "cell_type": "code",
      "metadata": {
        "id": "hBRkkl-LZKWW"
      },
      "source": [
        "# Company : Aurobindo Pharm\n",
        "# Medicine : Flucytosine Capsules\n",
        "\n",
        "d = {\n",
        "    'Date':[],\n",
        "    'Stocks Sold':[]\n",
        "}\n",
        "import datetime\n",
        "import random\n",
        "import pandas as pd\n",
        "for i in range(10000):\n",
        "  start_date = datetime.date(2015,1, 1)\n",
        "  end_date = datetime.date(2021,1,1)\n",
        "\n",
        "  time_between_dates = end_date - start_date\n",
        "  days_between_dates = time_between_dates.days\n",
        "  random_number_of_days = random.randrange(days_between_dates)\n",
        "  random_date = start_date + datetime.timedelta(days=random_number_of_days)\n",
        "\n",
        "  d['Date'].append(random_date)\n",
        "  stocks_seed = random. randint(1,20)\n",
        "  stock = random.randint(1,stocks_seed)\n",
        "  d['Stocks Sold'].append(stock)\n",
        "\n",
        "df = pd.DataFrame(d)\n",
        "df.to_csv('Aurobindo Pharm_Flucytosine Capsules.csv',index = False)"
      ],
      "execution_count": 17,
      "outputs": []
    },
    {
      "cell_type": "code",
      "metadata": {
        "id": "6qpEzKs2Zehb"
      },
      "source": [
        "# Company : Aurobindo Pharm\n",
        "# Medicine : Galantamine Tablets\n",
        "\n",
        "d = {\n",
        "    'Date':[],\n",
        "    'Stocks Sold':[]\n",
        "}\n",
        "import datetime\n",
        "import random\n",
        "import pandas as pd\n",
        "for i in range(10000):\n",
        "  start_date = datetime.date(2015,1, 1)\n",
        "  end_date = datetime.date(2021,1,1)\n",
        "\n",
        "  time_between_dates = end_date - start_date\n",
        "  days_between_dates = time_between_dates.days\n",
        "  random_number_of_days = random.randrange(days_between_dates)\n",
        "  random_date = start_date + datetime.timedelta(days=random_number_of_days)\n",
        "\n",
        "  d['Date'].append(random_date)\n",
        "  stocks_seed = random. randint(1,20)\n",
        "  stock = random.randint(1,stocks_seed)\n",
        "  d['Stocks Sold'].append(stock)\n",
        "\n",
        "df = pd.DataFrame(d)\n",
        "df.to_csv('Aurobindo Pharm_Galantamine Tablets.csv',index = False)"
      ],
      "execution_count": 18,
      "outputs": []
    },
    {
      "cell_type": "code",
      "metadata": {
        "id": "TqBCNQZFZi2s"
      },
      "source": [
        "# Company : Glenmark\n",
        "# Medicine : Letrozole Tablets\n",
        "\n",
        "d = {\n",
        "    'Date':[],\n",
        "    'Stocks Sold':[]\n",
        "}\n",
        "import datetime\n",
        "import random\n",
        "import pandas as pd\n",
        "for i in range(10000):\n",
        "  start_date = datetime.date(2015,1, 1)\n",
        "  end_date = datetime.date(2021,1,1)\n",
        "\n",
        "  time_between_dates = end_date - start_date\n",
        "  days_between_dates = time_between_dates.days\n",
        "  random_number_of_days = random.randrange(days_between_dates)\n",
        "  random_date = start_date + datetime.timedelta(days=random_number_of_days)\n",
        "\n",
        "  d['Date'].append(random_date)\n",
        "  stocks_seed = random. randint(1,20)\n",
        "  stock = random.randint(1,stocks_seed)\n",
        "  d['Stocks Sold'].append(stock)\n",
        "\n",
        "df = pd.DataFrame(d)\n",
        "df.to_csv('Glenmark_Letrozole Tablets.csv',index = False)"
      ],
      "execution_count": 19,
      "outputs": []
    },
    {
      "cell_type": "code",
      "metadata": {
        "id": "B8t3rxJIZlSt"
      },
      "source": [
        "# Company : Glenmark\n",
        "# Medicine : Pioglitazone HCL Tabs\n",
        "\n",
        "d = {\n",
        "    'Date':[],\n",
        "    'Stocks Sold':[]\n",
        "}\n",
        "import datetime\n",
        "import random\n",
        "import pandas as pd\n",
        "for i in range(10000):\n",
        "  start_date = datetime.date(2015,1, 1)\n",
        "  end_date = datetime.date(2021,1,1)\n",
        "\n",
        "  time_between_dates = end_date - start_date\n",
        "  days_between_dates = time_between_dates.days\n",
        "  random_number_of_days = random.randrange(days_between_dates)\n",
        "  random_date = start_date + datetime.timedelta(days=random_number_of_days)\n",
        "\n",
        "  d['Date'].append(random_date)\n",
        "  stocks_seed = random. randint(1,20)\n",
        "  stock = random.randint(1,stocks_seed)\n",
        "  d['Stocks Sold'].append(stock)\n",
        "\n",
        "df = pd.DataFrame(d)\n",
        "df.to_csv('Glenmark_Pioglitazone HCL Tabs.csv',index = False)"
      ],
      "execution_count": 20,
      "outputs": []
    },
    {
      "cell_type": "code",
      "metadata": {
        "id": "HkUDk2kLZ8dy"
      },
      "source": [
        "# Company : Biocon\n",
        "# Medicine : Omeprazole & Sodium Bicarbonate Capsules\n",
        "\n",
        "d = {\n",
        "    'Date':[],\n",
        "    'Stocks Sold':[]\n",
        "}\n",
        "import datetime\n",
        "import random\n",
        "import pandas as pd\n",
        "for i in range(10000):\n",
        "  start_date = datetime.date(2015,1, 1)\n",
        "  end_date = datetime.date(2021,1,1)\n",
        "\n",
        "  time_between_dates = end_date - start_date\n",
        "  days_between_dates = time_between_dates.days\n",
        "  random_number_of_days = random.randrange(days_between_dates)\n",
        "  random_date = start_date + datetime.timedelta(days=random_number_of_days)\n",
        "\n",
        "  d['Date'].append(random_date)\n",
        "  stocks_seed = random. randint(1,20)\n",
        "  stock = random.randint(1,stocks_seed)\n",
        "  d['Stocks Sold'].append(stock)\n",
        "\n",
        "df = pd.DataFrame(d)\n",
        "df.to_csv('Biocon_Omeprazole & Sodium Bicarbonate Capsules.csv',index = False)"
      ],
      "execution_count": 21,
      "outputs": []
    }
  ]
}